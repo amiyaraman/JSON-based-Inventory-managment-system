{
  "nbformat": 4,
  "nbformat_minor": 0,
  "metadata": {
    "colab": {
      "name": "inventory.ipynb",
      "provenance": [],
      "collapsed_sections": []
    },
    "kernelspec": {
      "name": "python3",
      "display_name": "Python 3"
    },
    "language_info": {
      "name": "python"
    }
  },
  "cells": [
    {
      "cell_type": "markdown",
      "metadata": {
        "id": "C5_2uLfdlvBs"
      },
      "source": [
        ""
      ]
    },
    {
      "cell_type": "code",
      "metadata": {
        "id": "QoNg49belvkj"
      },
      "source": [
        "import json\n",
        "fd = open(\"records.json\",'r')\n",
        "r = fd.read()\n",
        "fd.close()\n",
        "records= json.loads(r)\n",
        "\n",
        "# records = {'1001':{\"Product_Name\":\"Apple Jam\",\"price\":40,\"Qty\":100},\n",
        "#           '1002':{\"Product_Name\":\"Dairy Milk\",\"price\":40,\"Qty\":100,},\n",
        "#           '1003':{\"Product_Name\":\"Kit-Kat\",\"price\":40,\"Qty\":100,} ,\n",
        "#          '1004':{\"Product_Name\":\"Mountain dew\",\"price\":40,\"Qty\":100,},\n",
        "#          '1005':{\"Product_Name\":\"coca cola\",\"price\":40,\"Qty\":100,},\n",
        "#          '1006':{\"Product_Name\":\"Maida\\t\",\"price\":40,\"Qty\":100,},\n",
        "#          '1007':{\"Product_Name\":\"surf excel\",\"price\":40,\"Qty\":100,},\n",
        "#          '1008':{\"Product_Name\":\"Badam\\t\",\"price\":40,\"Qty\":100,},\n",
        "#          '1009':{\"Product_Name\":\"Kismis\\t\",\"price\":40,\"Qty\":100,},\n",
        "#          '1010':{\"Product_Name\":\"Parle-G\",\"price\":40,\"Qty\":100,},\n",
        "#          '1011':{\"Product_Name\":\"bourbon biscuits\",\"price\":40,\"Qty\":100,},\n",
        "#          '1012':{\"Product_Name\":\"Punjabi Tadka\",\"price\":40,\"Qty\":100,},\n",
        "#          '1013':{\"Product_Name\":\"Aloo bhujia\",\"price\":40,\"Qty\":100,},\n",
        "#           '1014':{\"Product_Name\":\"Paneer\\t\",\"price\":40,\"Qty\":100,},\n",
        "#          '1015':{\"Product_Name\":\"Elaichi \",\"price\":40,\"Qty\":100,},\n",
        "#          '1016':{\"Product_Name\":\"Jira\\t\",\"price\":40,\"Qty\":100,},\n",
        "#          '1017':{\"Product_Name\":\"Dove\\t\",\"price\":40,\"Qty\":100,},\n",
        "#          '1018':{\"Product_Name\":\"Good Knight\",\"price\":40,\"Qty\":100,},\n",
        "#          '1019':{\"Product_Name\":\"Pista\\t\",\"price\":40,\"Qty\":100,},\n",
        "#          '1020':{\"Product_Name\":\"Micromax TV\",\"price\":40,\"Qty\":100,},\n",
        "#          '1021':{\"Product_Name\":\"KeyBoard\",\"price\":40,\"Qty\":100},\n",
        "#          '1022':{\"Product_Name\":\"Boro Plus\",\"price\":40,\"Qty\":100,},\n",
        "#          '1023':{\"Product_Name\":\"Garam Masala\",\"price\":40,\"Qty\":100,},\n",
        "#          '1024':{\"Product_Name\":\"lay's chips\",\"price\":40,\"Qty\":100,},\n",
        "#          '1025':{\"Product_Name\":\"dove shampoo\",\"price\":40,\"Qty\":100,},\n",
        "#          '1026':{\"Product_Name\":\"Pen\\t\",\"price\":40,\"Qty\":100,},\n",
        "#          '1027':{\"Product_Name\":\"Milk\\t\",\"price\":40,\"Qty\":100,},\n",
        "#          '1028':{\"Product_Name\":\"Amul Butter\",\"price\":40,\"Qty\":100,},\n",
        "#          '1028':{\"Product_Name\":\"mixed juice\",\"price\":40,\"Qty\":100,},\n",
        "#          '1030':{\"Product_Name\":\"Books\\t\",\"price\":40,\"Qty\":100,}}\n",
        "records"
      ],
      "execution_count": null,
      "outputs": []
    },
    {
      "cell_type": "code",
      "metadata": {
        "id": "aj37yx0lbxlk"
      },
      "source": [
        "##To add items into records.json\n",
        "chose = True\n",
        "while(chose):\n",
        "  pro_ID = str(input(\"Enter Product Id: \"))\n",
        "  name = str(input(\"Enter name: \"))\n",
        "  price = int(input(\"Enter Price: \"))\n",
        "  Quantity = int(input(\"Enter Quantity: \"))\n",
        "  chosenvalue=str(input(\"What to add more value?(Y/N)\"))\n",
        "  if(chosenvalue=='Y'):\n",
        "    chose=True\n",
        "  else:\n",
        "    chose=False\n",
        "\n",
        "  for i in records:\n",
        "      if(i == pro_ID):\n",
        "          if(record[i]['Product_Name'] == name):\n",
        "              Quantity = record[i]['Qty'] + Quantity\n",
        "\n",
        "records[pro_ID] = {\"Product_Name\": name,\"price\": price, \"Qty\": Quantity}"
      ],
      "execution_count": null,
      "outputs": []
    },
    {
      "cell_type": "code",
      "metadata": {
        "id": "b7k1CMV_Ykpn"
      },
      "source": [
        "j_s = json.dumps(records)"
      ],
      "execution_count": null,
      "outputs": []
    },
    {
      "cell_type": "code",
      "metadata": {
        "id": "6sjLT3DqY0ad"
      },
      "source": [
        "#j_s"
      ],
      "execution_count": null,
      "outputs": []
    },
    {
      "cell_type": "code",
      "metadata": {
        "id": "HGyvku1Nbbtd"
      },
      "source": [
        "records"
      ],
      "execution_count": null,
      "outputs": []
    },
    {
      "cell_type": "code",
      "metadata": {
        "id": "eY1MQ044Y8Bp"
      },
      "source": [
        "fd = open(\"records.json\",\"w\")\n",
        "fd.write(j_s)\n",
        "fd.close()\n"
      ],
      "execution_count": null,
      "outputs": []
    },
    {
      "cell_type": "code",
      "metadata": {
        "id": "EwIStpPraJ2J"
      },
      "source": [
        "fd = open(\"records.json\",\"r\")\n",
        "data = fd.read()\n",
        "fd.close()"
      ],
      "execution_count": null,
      "outputs": []
    },
    {
      "cell_type": "code",
      "metadata": {
        "id": "zC32l0PvaLsw"
      },
      "source": [
        "# dict = json.loads(data)\n",
        "# dict"
      ],
      "execution_count": null,
      "outputs": []
    },
    {
      "cell_type": "code",
      "metadata": {
        "id": "f6m9JrOM1XBz"
      },
      "source": [
        "print(\"*****************************Welcome User*****************************\")\n",
        "print(\"*****************************Happy Shopping***************************\")\n",
        "print(\"\\tproduct ID\\t\", \"product Name\\t\" ,\"Price\\t\", \"Quantity\")\n",
        "for i in records:\n",
        "  print(\"\\t\",i, \"\\t\\t\", records[i][\"Product_Name\"], \"\\t\", records[i][\"price\"], \"\\t\\t\", records[i][\"Qty\"], \"\\t\\t\",)"
      ],
      "execution_count": null,
      "outputs": []
    },
    {
      "cell_type": "code",
      "metadata": {
        "id": "hAOKcl7paasw"
      },
      "source": [
        "Buy_again = True\n",
        "amount = []\n",
        "quantitys = []\n",
        "while(Buy_again):\n",
        "  user_id=input(\"Enter the product id :\")\n",
        "  # print(user_id)\n",
        "  quantity=int(input(\"Enter The Quantity :\"))\n",
        "  \n",
        "  product_id=records.keys()\n",
        "\n",
        "  if (user_id not in product_id):\n",
        "      print(\"Entered wrong Product Id \")\n",
        "    \n",
        "    \n",
        "    \n",
        "  flag=0\n",
        "  if(records[user_id][\"Qty\"]<quantity):\n",
        "      print(\"The available quantity is :\" ,records[user_id][\"Qty\"])\n",
        "      ans=int(input(\"Do you want to take these quantity(1-yes/0-No)\"))\n",
        "      if(ans):\n",
        "          print(\"The bill is processed!!\")\n",
        "          quantity=records[user_id][\"Qty\"]\n",
        "        \n",
        "      else:\n",
        "          flag=1\n",
        "          print(\"choose any other product\")\n",
        "  \n",
        "  records[user_id][\"Qty\"]-=quantity\n",
        "\n",
        "  amount.append(user_id)\n",
        "  quantitys.append(quantity)\n",
        "  chose = (input(\"Want To Buy More?(Y/N)\"))\n",
        "  if(chose=='N'):\n",
        "    Buy_again=False\n",
        "\n",
        "\n",
        "  #records"
      ],
      "execution_count": null,
      "outputs": []
    },
    {
      "cell_type": "code",
      "metadata": {
        "id": "7X-4n52Vqs7s"
      },
      "source": [
        "\n",
        "fd = open(\"records.json\",\"w\")\n",
        "fd.write(json.dumps(records))\n",
        "fd.close()"
      ],
      "execution_count": null,
      "outputs": []
    },
    {
      "cell_type": "code",
      "metadata": {
        "id": "SlwtAbDuAcVS"
      },
      "source": [
        "import time\n",
        "sum=0\n",
        "i=0\n",
        "if(flag==0):\n",
        "  print(\"******************************Bill******************************\",)\n",
        "  print(\"****************Time :\",time.ctime(),\"****************\")\n",
        "  for i in range(len(amount)):\n",
        "    print(\"\\t\\tProduct :\",records[amount[i]][\"Product_Name\"])\n",
        "    print(\"\\t\\tQuanity :\",quantitys[i])\n",
        "    print(\"\\t\\tPrice :\",records[amount[i]][\"price\"])\n",
        "    sum+=records[amount[i]][\"price\"]*quantitys[i]\n",
        "  print(\"\\t\\tBilling Amount :\",sum)\n",
        "  print(\"***********************************************************************************\")"
      ],
      "execution_count": null,
      "outputs": []
    },
    {
      "cell_type": "code",
      "metadata": {
        "id": "WmWbZRnHCC0K"
      },
      "source": [
        "fd=open(\"sales.json\",\"r\")\n",
        "txt=fd.read()\n",
        "fd.close()\n",
        "sales=json.loads(txt)"
      ],
      "execution_count": null,
      "outputs": []
    },
    {
      "cell_type": "code",
      "metadata": {
        "id": "8b_CVWlxCEt-"
      },
      "source": [
        "trans_id=len(sales)+1\n",
        "products_name=[]\n",
        "for i in range(len(amount)):\n",
        "  products_name.append(records[amount[i]][\"Product_Name\"])\n",
        "trans_details={'Product_Name':products_name}\n",
        "trans_details['time']=time.ctime()\n",
        "trans_details['Qty']=quantitys\n",
        "trans_details['total_amount']=sum\n",
        "sales[trans_id]=trans_details"
      ],
      "execution_count": null,
      "outputs": []
    },
    {
      "cell_type": "code",
      "metadata": {
        "id": "KWrxvYp6CEvO"
      },
      "source": [
        "fd=open(\"sales.json\",\"w\")\n",
        "jformat=json.dumps(sales)\n",
        "fd.write(jformat)\n",
        "fd.close()"
      ],
      "execution_count": null,
      "outputs": []
    }
  ]
}