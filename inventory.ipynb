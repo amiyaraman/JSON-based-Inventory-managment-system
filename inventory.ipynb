{
  "nbformat": 4,
  "nbformat_minor": 0,
  "metadata": {
    "colab": {
      "name": "inventory.ipynb",
      "provenance": [],
      "collapsed_sections": []
    },
    "kernelspec": {
      "name": "python3",
      "display_name": "Python 3"
    },
    "language_info": {
      "name": "python"
    }
  },
  "cells": [
    {
      "cell_type": "markdown",
      "metadata": {
        "id": "C5_2uLfdlvBs"
      },
      "source": [
        ""
      ]
    },
    {
      "cell_type": "code",
      "metadata": {
        "id": "QoNg49belvkj",
        "colab": {
          "base_uri": "https://localhost:8080/"
        },
        "outputId": "6450bc37-3e0f-4cb2-ff89-207f52b7c419"
      },
      "source": [
        "import json\n",
        "fd = open(\"records.json\",'r')\n",
        "r = fd.read()\n",
        "fd.close()\n",
        "records= json.loads(r)\n",
        "\n",
        "\n",
        "records"
      ],
      "execution_count": 23,
      "outputs": [
        {
          "output_type": "execute_result",
          "data": {
            "text/plain": [
              "{'1001': {'Category': 'Food',\n",
              "  'Expiry Date': 2022,\n",
              "  'Product_Name': 'Apple Jam',\n",
              "  'Qty': 96,\n",
              "  'price': 120},\n",
              " '1002': {'Category': 'Food',\n",
              "  'Expiry Date': 2022,\n",
              "  'Product_Name': 'Dairy Milk',\n",
              "  'Qty': 100,\n",
              "  'price': 20},\n",
              " '1003': {'Category': 'Food',\n",
              "  'Expiry Date': 2022,\n",
              "  'Product_Name': 'Kit-Kat',\n",
              "  'Qty': 96,\n",
              "  'price': 25},\n",
              " '1004': {'Category': 'Drink',\n",
              "  'Expiry Date': 2022,\n",
              "  'Product_Name': 'Mountain dew',\n",
              "  'Qty': 120,\n",
              "  'price': 35},\n",
              " '1005': {'Category': 'Drink',\n",
              "  'Expiry Date': 2022,\n",
              "  'Product_Name': 'coca cola',\n",
              "  'Qty': 96,\n",
              "  'price': 40},\n",
              " '1006': {'Category': 'Food',\n",
              "  'Expiry Date': 2022,\n",
              "  'Product_Name': 'Maida\\t',\n",
              "  'Qty': 100,\n",
              "  'price': 50},\n",
              " '1007': {'Category': 'Shoop',\n",
              "  'Expiry Date': 2022,\n",
              "  'Product_Name': 'surf excel',\n",
              "  'Qty': 100,\n",
              "  'price': 130},\n",
              " '1008': {'Category': 'Food',\n",
              "  'Expiry Date': 2022,\n",
              "  'Product_Name': 'Badam\\t',\n",
              "  'Qty': 100,\n",
              "  'price': 800},\n",
              " '1009': {'Category': 'Food',\n",
              "  'Expiry Date': 2022,\n",
              "  'Product_Name': 'Kismis\\t',\n",
              "  'Qty': 100,\n",
              "  'price': 400},\n",
              " '1010': {'Category': 'Biscut',\n",
              "  'Expiry Date': 2022,\n",
              "  'Product_Name': 'Parle-G',\n",
              "  'Qty': 96,\n",
              "  'price': 20},\n",
              " '1011': {'Category': 'Biscut',\n",
              "  'Expiry Date': 2022,\n",
              "  'Product_Name': 'bourbon biscuits',\n",
              "  'Qty': 100,\n",
              "  'price': 25},\n",
              " '1012': {'Category': 'Namkin',\n",
              "  'Expiry Date': 2022,\n",
              "  'Product_Name': 'Punjabi Tadka',\n",
              "  'Qty': 100,\n",
              "  'price': 55},\n",
              " '1013': {'Category': 'Namkin',\n",
              "  'Expiry Date': 2022,\n",
              "  'Product_Name': 'Aloo bhujia',\n",
              "  'Qty': 100,\n",
              "  'price': 43},\n",
              " '1014': {'Category': 'Food',\n",
              "  'Expiry Date': 2022,\n",
              "  'Product_Name': 'Paneer\\t',\n",
              "  'Qty': 100,\n",
              "  'price': 240},\n",
              " '1015': {'Category': 'Masala',\n",
              "  'Expiry Date': 2022,\n",
              "  'Product_Name': 'Elaichi ',\n",
              "  'Qty': 100,\n",
              "  'price': 800},\n",
              " '1016': {'Category': 'Masala',\n",
              "  'Expiry Date': 2022,\n",
              "  'Product_Name': 'Jira\\t',\n",
              "  'Qty': 100,\n",
              "  'price': 120},\n",
              " '1017': {'Category': 'Shoop',\n",
              "  'Expiry Date': 2022,\n",
              "  'Product_Name': 'Dove\\t',\n",
              "  'Qty': 100,\n",
              "  'price': 48},\n",
              " '1018': {'Category': 'Needs',\n",
              "  'Expiry Date': 2022,\n",
              "  'Product_Name': 'Good Knight',\n",
              "  'Qty': 100,\n",
              "  'price': 72},\n",
              " '1019': {'Category': 'Masala',\n",
              "  'Expiry Date': 2022,\n",
              "  'Product_Name': 'Pista\\t',\n",
              "  'Qty': 100,\n",
              "  'price': 1000},\n",
              " '1020': {'Category': 'Entertainment',\n",
              "  'Expiry Date': 2022,\n",
              "  'Product_Name': 'Micromax TV',\n",
              "  'Qty': 100,\n",
              "  'price': 40000},\n",
              " '1021': {'Category': 'Entertainment',\n",
              "  'Expiry Date': 2022,\n",
              "  'Product_Name': 'KeyBoard',\n",
              "  'Qty': 100,\n",
              "  'price': 8000},\n",
              " '1022': {'Category': 'Cream',\n",
              "  'Expiry Date': 2022,\n",
              "  'Product_Name': 'Boro Plus',\n",
              "  'Qty': 100,\n",
              "  'price': 68},\n",
              " '1023': {'Category': 'Masala',\n",
              "  'Expiry Date': 2022,\n",
              "  'Product_Name': 'Garam Masala',\n",
              "  'Qty': 100,\n",
              "  'price': 80},\n",
              " '1024': {'Category': 'Food',\n",
              "  'Expiry Date': 2022,\n",
              "  'Product_Name': \"lay's chips\",\n",
              "  'Qty': 100,\n",
              "  'price': 50},\n",
              " '1025': {'Category': 'shampoo',\n",
              "  'Expiry Date': 2022,\n",
              "  'Product_Name': 'dove shampoo',\n",
              "  'Qty': 100,\n",
              "  'price': 140},\n",
              " '1026': {'Category': 'Pen',\n",
              "  'Expiry Date': 2022,\n",
              "  'Product_Name': 'Pen\\t',\n",
              "  'Qty': 100,\n",
              "  'price': 3},\n",
              " '1027': {'Category': 'Food',\n",
              "  'Expiry Date': 2022,\n",
              "  'Product_Name': 'Milk\\t',\n",
              "  'Qty': 100,\n",
              "  'price': 35},\n",
              " '1028': {'Category': 'Food',\n",
              "  'Expiry Date': 2022,\n",
              "  'Product_Name': 'mixed juice',\n",
              "  'Qty': 100,\n",
              "  'price': 96},\n",
              " '1030': {'Category': 'Study',\n",
              "  'Expiry Date': 2022,\n",
              "  'Product_Name': 'NoteBooks\\t',\n",
              "  'Qty': 28,\n",
              "  'price': 546},\n",
              " '1034': {'Category': 'Light',\n",
              "  'Expiry Date': 2022,\n",
              "  'Product_Name': 'Tube Light',\n",
              "  'Qty': 116,\n",
              "  'price': 140},\n",
              " '1035': {'Category': 'Light',\n",
              "  'Expiry Date': 2022,\n",
              "  'Product_Name': 'Agarbatti',\n",
              "  'Qty': 127,\n",
              "  'price': 23},\n",
              " '1037': {'Category': 'Food',\n",
              "  'Product_Name': 'Sweet',\n",
              "  'Qty': 432,\n",
              "  'price': 20},\n",
              " '1040': {'Category': 'Food',\n",
              "  'Expiry Date': 2022,\n",
              "  'Product_Name': 'Oil',\n",
              "  'Qty': 47,\n",
              "  'price': 200}}"
            ]
          },
          "metadata": {},
          "execution_count": 23
        }
      ]
    },
    {
      "cell_type": "code",
      "metadata": {
        "id": "aj37yx0lbxlk",
        "colab": {
          "base_uri": "https://localhost:8080/"
        },
        "outputId": "0657f707-6f8c-4a1d-b54b-0b16fc54fdd4"
      },
      "source": [
        "##To add items into records.json\n",
        "chose = True\n",
        "while(chose):\n",
        "  pro_ID = str(input(\"Enter Product Id: \"))\n",
        "  name = str(input(\"Enter name: \"))\n",
        "  price = int(input(\"Enter Price: \"))\n",
        "  Quantity = int(input(\"Enter Quantity: \"))\n",
        "  Category = input('Enter the Catagory: ')\n",
        "  Expdate=int(input(\"Enter the expire date: \"))\n",
        "  chosenvalue=str(input(\"What to add more value?(Y/N)\"))\n",
        "  if(chosenvalue=='Y'):\n",
        "    chose=True\n",
        "  else:\n",
        "    chose=False\n",
        "\n",
        "  for i in records:\n",
        "      if(i == pro_ID):\n",
        "          if(record[i]['Product_Name'] == name):\n",
        "              Quantity = record[i]['Qty'] + Quantity\n",
        "\n",
        "records[pro_ID] = {\"Product_Name\": name,\"price\": price, \"Qty\": Quantity , 'Category':Category,'Expiry Date':Expdate}"
      ],
      "execution_count": 17,
      "outputs": [
        {
          "name": "stdout",
          "output_type": "stream",
          "text": [
            "Enter Product Id: 1040\n",
            "Enter name: Oil\n",
            "Enter Price: 200\n",
            "Enter Quantity: 47\n",
            "Enter the CatagoryFood\n",
            "Enter the expire date2022\n",
            "What to add more value?(Y/N)N\n"
          ]
        }
      ]
    },
    {
      "cell_type": "code",
      "metadata": {
        "id": "b7k1CMV_Ykpn"
      },
      "source": [
        "j_s = json.dumps(records)"
      ],
      "execution_count": 24,
      "outputs": []
    },
    {
      "cell_type": "code",
      "metadata": {
        "id": "6sjLT3DqY0ad"
      },
      "source": [
        "#j_s"
      ],
      "execution_count": null,
      "outputs": []
    },
    {
      "cell_type": "code",
      "metadata": {
        "id": "HGyvku1Nbbtd",
        "colab": {
          "base_uri": "https://localhost:8080/"
        },
        "outputId": "5d876457-e510-404e-a99d-7efc8b8d4dbc"
      },
      "source": [
        "records"
      ],
      "execution_count": 25,
      "outputs": [
        {
          "output_type": "execute_result",
          "data": {
            "text/plain": [
              "{'1001': {'Category': 'Food',\n",
              "  'Expiry Date': 2022,\n",
              "  'Product_Name': 'Apple Jam',\n",
              "  'Qty': 96,\n",
              "  'price': 120},\n",
              " '1002': {'Category': 'Food',\n",
              "  'Expiry Date': 2022,\n",
              "  'Product_Name': 'Dairy Milk',\n",
              "  'Qty': 100,\n",
              "  'price': 20},\n",
              " '1003': {'Category': 'Food',\n",
              "  'Expiry Date': 2022,\n",
              "  'Product_Name': 'Kit-Kat',\n",
              "  'Qty': 96,\n",
              "  'price': 25},\n",
              " '1004': {'Category': 'Drink',\n",
              "  'Expiry Date': 2022,\n",
              "  'Product_Name': 'Mountain dew',\n",
              "  'Qty': 120,\n",
              "  'price': 35},\n",
              " '1005': {'Category': 'Drink',\n",
              "  'Expiry Date': 2022,\n",
              "  'Product_Name': 'coca cola',\n",
              "  'Qty': 96,\n",
              "  'price': 40},\n",
              " '1006': {'Category': 'Food',\n",
              "  'Expiry Date': 2022,\n",
              "  'Product_Name': 'Maida\\t',\n",
              "  'Qty': 100,\n",
              "  'price': 50},\n",
              " '1007': {'Category': 'Shoop',\n",
              "  'Expiry Date': 2022,\n",
              "  'Product_Name': 'surf excel',\n",
              "  'Qty': 100,\n",
              "  'price': 130},\n",
              " '1008': {'Category': 'Food',\n",
              "  'Expiry Date': 2022,\n",
              "  'Product_Name': 'Badam\\t',\n",
              "  'Qty': 100,\n",
              "  'price': 800},\n",
              " '1009': {'Category': 'Food',\n",
              "  'Expiry Date': 2022,\n",
              "  'Product_Name': 'Kismis\\t',\n",
              "  'Qty': 100,\n",
              "  'price': 400},\n",
              " '1010': {'Category': 'Biscut',\n",
              "  'Expiry Date': 2022,\n",
              "  'Product_Name': 'Parle-G',\n",
              "  'Qty': 96,\n",
              "  'price': 20},\n",
              " '1011': {'Category': 'Biscut',\n",
              "  'Expiry Date': 2022,\n",
              "  'Product_Name': 'bourbon biscuits',\n",
              "  'Qty': 100,\n",
              "  'price': 25},\n",
              " '1012': {'Category': 'Namkin',\n",
              "  'Expiry Date': 2022,\n",
              "  'Product_Name': 'Punjabi Tadka',\n",
              "  'Qty': 100,\n",
              "  'price': 55},\n",
              " '1013': {'Category': 'Namkin',\n",
              "  'Expiry Date': 2022,\n",
              "  'Product_Name': 'Aloo bhujia',\n",
              "  'Qty': 100,\n",
              "  'price': 43},\n",
              " '1014': {'Category': 'Food',\n",
              "  'Expiry Date': 2022,\n",
              "  'Product_Name': 'Paneer\\t',\n",
              "  'Qty': 100,\n",
              "  'price': 240},\n",
              " '1015': {'Category': 'Masala',\n",
              "  'Expiry Date': 2022,\n",
              "  'Product_Name': 'Elaichi ',\n",
              "  'Qty': 100,\n",
              "  'price': 800},\n",
              " '1016': {'Category': 'Masala',\n",
              "  'Expiry Date': 2022,\n",
              "  'Product_Name': 'Jira\\t',\n",
              "  'Qty': 100,\n",
              "  'price': 120},\n",
              " '1017': {'Category': 'Shoop',\n",
              "  'Expiry Date': 2022,\n",
              "  'Product_Name': 'Dove\\t',\n",
              "  'Qty': 100,\n",
              "  'price': 48},\n",
              " '1018': {'Category': 'Needs',\n",
              "  'Expiry Date': 2022,\n",
              "  'Product_Name': 'Good Knight',\n",
              "  'Qty': 100,\n",
              "  'price': 72},\n",
              " '1019': {'Category': 'Masala',\n",
              "  'Expiry Date': 2022,\n",
              "  'Product_Name': 'Pista\\t',\n",
              "  'Qty': 100,\n",
              "  'price': 1000},\n",
              " '1020': {'Category': 'Entertainment',\n",
              "  'Expiry Date': 2022,\n",
              "  'Product_Name': 'Micromax TV',\n",
              "  'Qty': 100,\n",
              "  'price': 40000},\n",
              " '1021': {'Category': 'Entertainment',\n",
              "  'Expiry Date': 2022,\n",
              "  'Product_Name': 'KeyBoard',\n",
              "  'Qty': 100,\n",
              "  'price': 8000},\n",
              " '1022': {'Category': 'Cream',\n",
              "  'Expiry Date': 2022,\n",
              "  'Product_Name': 'Boro Plus',\n",
              "  'Qty': 100,\n",
              "  'price': 68},\n",
              " '1023': {'Category': 'Masala',\n",
              "  'Expiry Date': 2022,\n",
              "  'Product_Name': 'Garam Masala',\n",
              "  'Qty': 100,\n",
              "  'price': 80},\n",
              " '1024': {'Category': 'Food',\n",
              "  'Expiry Date': 2022,\n",
              "  'Product_Name': \"lay's chips\",\n",
              "  'Qty': 100,\n",
              "  'price': 50},\n",
              " '1025': {'Category': 'shampoo',\n",
              "  'Expiry Date': 2022,\n",
              "  'Product_Name': 'dove shampoo',\n",
              "  'Qty': 100,\n",
              "  'price': 140},\n",
              " '1026': {'Category': 'Pen',\n",
              "  'Expiry Date': 2022,\n",
              "  'Product_Name': 'Pen\\t',\n",
              "  'Qty': 100,\n",
              "  'price': 3},\n",
              " '1027': {'Category': 'Food',\n",
              "  'Expiry Date': 2022,\n",
              "  'Product_Name': 'Milk\\t',\n",
              "  'Qty': 100,\n",
              "  'price': 35},\n",
              " '1028': {'Category': 'Food',\n",
              "  'Expiry Date': 2022,\n",
              "  'Product_Name': 'mixed juice',\n",
              "  'Qty': 100,\n",
              "  'price': 96},\n",
              " '1030': {'Category': 'Study',\n",
              "  'Expiry Date': 2022,\n",
              "  'Product_Name': 'NoteBooks\\t',\n",
              "  'Qty': 28,\n",
              "  'price': 546},\n",
              " '1034': {'Category': 'Light',\n",
              "  'Expiry Date': 2022,\n",
              "  'Product_Name': 'Tube Light',\n",
              "  'Qty': 116,\n",
              "  'price': 140},\n",
              " '1035': {'Category': 'Light',\n",
              "  'Expiry Date': 2022,\n",
              "  'Product_Name': 'Agarbatti',\n",
              "  'Qty': 127,\n",
              "  'price': 23},\n",
              " '1037': {'Category': 'Food',\n",
              "  'Product_Name': 'Sweet',\n",
              "  'Qty': 432,\n",
              "  'price': 20},\n",
              " '1040': {'Category': 'Food',\n",
              "  'Expiry Date': 2022,\n",
              "  'Product_Name': 'Oil',\n",
              "  'Qty': 47,\n",
              "  'price': 200}}"
            ]
          },
          "metadata": {},
          "execution_count": 25
        }
      ]
    },
    {
      "cell_type": "code",
      "metadata": {
        "id": "eY1MQ044Y8Bp"
      },
      "source": [
        "fd = open(\"records.json\",\"w\")\n",
        "fd.write(j_s)\n",
        "fd.close()\n"
      ],
      "execution_count": 26,
      "outputs": []
    },
    {
      "cell_type": "code",
      "metadata": {
        "id": "EwIStpPraJ2J"
      },
      "source": [
        "fd = open(\"records.json\",\"r\")\n",
        "data = fd.read()\n",
        "fd.close()"
      ],
      "execution_count": 27,
      "outputs": []
    },
    {
      "cell_type": "code",
      "metadata": {
        "id": "zC32l0PvaLsw"
      },
      "source": [
        "# dict = json.loads(data)\n",
        "# dict"
      ],
      "execution_count": 28,
      "outputs": []
    },
    {
      "cell_type": "code",
      "metadata": {
        "id": "f6m9JrOM1XBz",
        "colab": {
          "base_uri": "https://localhost:8080/"
        },
        "outputId": "8002f8a0-194f-4fce-c445-76475bd98d3f"
      },
      "source": [
        "print(\"*****************************Welcome User*****************************\")\n",
        "print(\"*****************************Happy Shopping***************************\")\n",
        "print(\"\\tproduct ID\\t\", \"product Name\\t\" ,\"Price\\t\", \"Quantity\")\n",
        "for i in records:\n",
        "  print(\"\\t\",i, \"\\t\\t\", records[i][\"Product_Name\"], \"\\t\", records[i][\"price\"], \"\\t\\t\", records[i][\"Qty\"], \"\\t\\t\",)"
      ],
      "execution_count": 22,
      "outputs": [
        {
          "output_type": "stream",
          "name": "stdout",
          "text": [
            "*****************************Welcome User*****************************\n",
            "*****************************Happy Shopping***************************\n",
            "\tproduct ID\t product Name\t Price\t Quantity\n",
            "\t 1001 \t\t Apple Jam \t 120 \t\t 96 \t\t\n",
            "\t 1002 \t\t Dairy Milk \t 20 \t\t 100 \t\t\n",
            "\t 1003 \t\t Kit-Kat \t 25 \t\t 96 \t\t\n",
            "\t 1004 \t\t Mountain dew \t 35 \t\t 120 \t\t\n",
            "\t 1005 \t\t coca cola \t 40 \t\t 96 \t\t\n",
            "\t 1006 \t\t Maida\t \t 50 \t\t 100 \t\t\n",
            "\t 1007 \t\t surf excel \t 130 \t\t 100 \t\t\n",
            "\t 1008 \t\t Badam\t \t 800 \t\t 100 \t\t\n",
            "\t 1009 \t\t Kismis\t \t 400 \t\t 100 \t\t\n",
            "\t 1010 \t\t Parle-G \t 20 \t\t 96 \t\t\n",
            "\t 1011 \t\t bourbon biscuits \t 25 \t\t 100 \t\t\n",
            "\t 1012 \t\t Punjabi Tadka \t 55 \t\t 100 \t\t\n",
            "\t 1013 \t\t Aloo bhujia \t 43 \t\t 100 \t\t\n",
            "\t 1014 \t\t Paneer\t \t 240 \t\t 100 \t\t\n",
            "\t 1015 \t\t Elaichi  \t 800 \t\t 100 \t\t\n",
            "\t 1016 \t\t Jira\t \t 120 \t\t 100 \t\t\n",
            "\t 1017 \t\t Dove\t \t 48 \t\t 100 \t\t\n",
            "\t 1018 \t\t Good Knight \t 72 \t\t 100 \t\t\n",
            "\t 1019 \t\t Pista\t \t 1000 \t\t 100 \t\t\n",
            "\t 1020 \t\t Micromax TV \t 40000 \t\t 100 \t\t\n",
            "\t 1021 \t\t KeyBoard \t 8000 \t\t 100 \t\t\n",
            "\t 1022 \t\t Boro Plus \t 68 \t\t 100 \t\t\n",
            "\t 1023 \t\t Garam Masala \t 80 \t\t 100 \t\t\n",
            "\t 1024 \t\t lay's chips \t 50 \t\t 100 \t\t\n",
            "\t 1025 \t\t dove shampoo \t 140 \t\t 100 \t\t\n",
            "\t 1026 \t\t Pen\t \t 3 \t\t 100 \t\t\n",
            "\t 1027 \t\t Milk\t \t 35 \t\t 100 \t\t\n",
            "\t 1028 \t\t mixed juice \t 96 \t\t 100 \t\t\n",
            "\t 1030 \t\t NoteBooks\t \t 546 \t\t 28 \t\t\n",
            "\t 1034 \t\t Tube Light \t 140 \t\t 116 \t\t\n",
            "\t 1035 \t\t Agarbatti \t 23 \t\t 127 \t\t\n",
            "\t 1037 \t\t Sweet \t 20 \t\t 432 \t\t\n",
            "\t 1040 \t\t Oil \t 200 \t\t 47 \t\t\n"
          ]
        }
      ]
    },
    {
      "cell_type": "code",
      "metadata": {
        "id": "hAOKcl7paasw"
      },
      "source": [
        "Buy_again = True\n",
        "amount = []\n",
        "quantitys = []\n",
        "while(Buy_again):\n",
        "  user_id=input(\"Enter the product id :\")\n",
        "  # print(user_id)\n",
        "  quantity=int(input(\"Enter The Quantity :\"))\n",
        "  \n",
        "  product_id=records.keys()\n",
        "\n",
        "  if (user_id not in product_id):\n",
        "      print(\"Entered wrong Product Id \")\n",
        "    \n",
        "    \n",
        "    \n",
        "  flag=0\n",
        "  if(records[user_id][\"Qty\"]<quantity):\n",
        "      print(\"The available quantity is :\" ,records[user_id][\"Qty\"])\n",
        "      ans=int(input(\"Do you want to take these quantity(1-yes/0-No)\"))\n",
        "      if(ans):\n",
        "          print(\"The bill is processed!!\")\n",
        "          quantity=records[user_id][\"Qty\"]\n",
        "        \n",
        "      else:\n",
        "          flag=1\n",
        "          print(\"choose any other product\")\n",
        "  \n",
        "  records[user_id][\"Qty\"]-=quantity\n",
        "\n",
        "  amount.append(user_id)\n",
        "  quantitys.append(quantity)\n",
        "  chose = (input(\"Want To Buy More?(Y/N)\"))\n",
        "  if(chose=='N'):\n",
        "    Buy_again=False\n",
        "\n",
        "\n",
        "  #records"
      ],
      "execution_count": null,
      "outputs": []
    },
    {
      "cell_type": "code",
      "metadata": {
        "id": "7X-4n52Vqs7s"
      },
      "source": [
        "\n",
        "fd = open(\"records.json\",\"w\")\n",
        "fd.write(json.dumps(records))\n",
        "fd.close()"
      ],
      "execution_count": null,
      "outputs": []
    },
    {
      "cell_type": "code",
      "metadata": {
        "id": "SlwtAbDuAcVS"
      },
      "source": [
        "import time\n",
        "sum=0\n",
        "i=0\n",
        "if(flag==0):\n",
        "  print(\"******************************Bill******************************\",)\n",
        "  print(\"****************Time :\",time.ctime(),\"****************\")\n",
        "  for i in range(len(amount)):\n",
        "    print(\"\\t\\tProduct :\",records[amount[i]][\"Product_Name\"])\n",
        "    print(\"\\t\\tQuanity :\",quantitys[i])\n",
        "    print(\"\\t\\tPrice :\",records[amount[i]][\"price\"])\n",
        "    sum+=records[amount[i]][\"price\"]*quantitys[i]\n",
        "  print(\"\\t\\tBilling Amount :\",sum)\n",
        "  print(\"***********************************************************************************\")"
      ],
      "execution_count": null,
      "outputs": []
    },
    {
      "cell_type": "code",
      "metadata": {
        "id": "WmWbZRnHCC0K"
      },
      "source": [
        "fd=open(\"sales.json\",\"r\")\n",
        "txt=fd.read()\n",
        "fd.close()\n",
        "sales=json.loads(txt)"
      ],
      "execution_count": null,
      "outputs": []
    },
    {
      "cell_type": "code",
      "metadata": {
        "id": "8b_CVWlxCEt-"
      },
      "source": [
        "trans_id=len(sales)+1\n",
        "products_name=[]\n",
        "for i in range(len(amount)):\n",
        "  products_name.append(records[amount[i]][\"Product_Name\"])\n",
        "trans_details={'Product_Name':products_name}\n",
        "trans_details['time']=time.ctime()\n",
        "trans_details['Qty']=quantitys\n",
        "trans_details['total_amount']=sum\n",
        "sales[trans_id]=trans_details"
      ],
      "execution_count": null,
      "outputs": []
    },
    {
      "cell_type": "code",
      "metadata": {
        "id": "KWrxvYp6CEvO"
      },
      "source": [
        "fd=open(\"sales.json\",\"w\")\n",
        "jformat=json.dumps(sales)\n",
        "fd.write(jformat)\n",
        "fd.close()"
      ],
      "execution_count": null,
      "outputs": []
    }
  ]
}