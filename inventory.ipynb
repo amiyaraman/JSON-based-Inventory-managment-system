{
  "nbformat": 4,
  "nbformat_minor": 0,
  "metadata": {
    "colab": {
      "name": "inventory.ipynb",
      "provenance": [],
      "collapsed_sections": []
    },
    "kernelspec": {
      "name": "python3",
      "display_name": "Python 3"
    },
    "language_info": {
      "name": "python"
    }
  },
  "cells": [
    {
      "cell_type": "markdown",
      "metadata": {
        "id": "C5_2uLfdlvBs"
      },
      "source": [
        ""
      ]
    },
    {
      "cell_type": "code",
      "metadata": {
        "colab": {
          "base_uri": "https://localhost:8080/"
        },
        "id": "QoNg49belvkj",
        "outputId": "1f0ca1d0-bf28-4e83-d16c-ed3369eb3a9c"
      },
      "source": [
        "import json\n",
        "fd = open(\"records.json\",'r')\n",
        "r = fd.read()\n",
        "fd.close()\n",
        "records= json.loads(r)\n",
        "\n",
        "# records = {'1001':{\"Product_Name\":\"Apple Jam\",\"price\":40,\"Qty\":100},\n",
        "#           '1002':{\"Product_Name\":\"Dairy Milk\",\"price\":40,\"Qty\":100,},\n",
        "#           '1003':{\"Product_Name\":\"Kit-Kat\",\"price\":40,\"Qty\":100,} ,\n",
        "#          '1004':{\"Product_Name\":\"Mountain dew\",\"price\":40,\"Qty\":100,},\n",
        "#          '1005':{\"Product_Name\":\"coca cola\",\"price\":40,\"Qty\":100,},\n",
        "#          '1006':{\"Product_Name\":\"Maida\\t\",\"price\":40,\"Qty\":100,},\n",
        "#          '1007':{\"Product_Name\":\"surf excel\",\"price\":40,\"Qty\":100,},\n",
        "#          '1008':{\"Product_Name\":\"Badam\\t\",\"price\":40,\"Qty\":100,},\n",
        "#          '1009':{\"Product_Name\":\"Kismis\\t\",\"price\":40,\"Qty\":100,},\n",
        "#          '1010':{\"Product_Name\":\"Parle-G\",\"price\":40,\"Qty\":100,},\n",
        "#          '1011':{\"Product_Name\":\"bourbon biscuits\",\"price\":40,\"Qty\":100,},\n",
        "#          '1012':{\"Product_Name\":\"Punjabi Tadka\",\"price\":40,\"Qty\":100,},\n",
        "#          '1013':{\"Product_Name\":\"Aloo bhujia\",\"price\":40,\"Qty\":100,},\n",
        "#           '1014':{\"Product_Name\":\"Paneer\\t\",\"price\":40,\"Qty\":100,},\n",
        "#          '1015':{\"Product_Name\":\"Elaichi \",\"price\":40,\"Qty\":100,},\n",
        "#          '1016':{\"Product_Name\":\"Jira\\t\",\"price\":40,\"Qty\":100,},\n",
        "#          '1017':{\"Product_Name\":\"Dove\\t\",\"price\":40,\"Qty\":100,},\n",
        "#          '1018':{\"Product_Name\":\"Good Knight\",\"price\":40,\"Qty\":100,},\n",
        "#          '1019':{\"Product_Name\":\"Pista\\t\",\"price\":40,\"Qty\":100,},\n",
        "#          '1020':{\"Product_Name\":\"Micromax TV\",\"price\":40,\"Qty\":100,},\n",
        "#          '1021':{\"Product_Name\":\"KeyBoard\",\"price\":40,\"Qty\":100},\n",
        "#          '1022':{\"Product_Name\":\"Boro Plus\",\"price\":40,\"Qty\":100,},\n",
        "#          '1023':{\"Product_Name\":\"Garam Masala\",\"price\":40,\"Qty\":100,},\n",
        "#          '1024':{\"Product_Name\":\"lay's chips\",\"price\":40,\"Qty\":100,},\n",
        "#          '1025':{\"Product_Name\":\"dove shampoo\",\"price\":40,\"Qty\":100,},\n",
        "#          '1026':{\"Product_Name\":\"Pen\\t\",\"price\":40,\"Qty\":100,},\n",
        "#          '1027':{\"Product_Name\":\"Milk\\t\",\"price\":40,\"Qty\":100,},\n",
        "#          '1028':{\"Product_Name\":\"Amul Butter\",\"price\":40,\"Qty\":100,},\n",
        "#          '1028':{\"Product_Name\":\"mixed juice\",\"price\":40,\"Qty\":100,},\n",
        "#          '1030':{\"Product_Name\":\"Books\\t\",\"price\":40,\"Qty\":100,}}\n",
        "records"
      ],
      "execution_count": null,
      "outputs": [
        {
          "output_type": "execute_result",
          "data": {
            "text/plain": [
              "{'1001': {'Product_Name': 'Apple Jam', 'Qty': 100, 'price': 40},\n",
              " '1002': {'Product_Name': 'Dairy Milk', 'Qty': 100, 'price': 40},\n",
              " '1003': {'Product_Name': 'Kit-Kat', 'Qty': 100, 'price': 40},\n",
              " '1004': {'Product_Name': 'Mountain dew', 'Qty': 100, 'price': 40},\n",
              " '1005': {'Product_Name': 'coca cola', 'Qty': 100, 'price': 40},\n",
              " '1006': {'Product_Name': 'Maida\\t', 'Qty': 100, 'price': 40},\n",
              " '1007': {'Product_Name': 'surf excel', 'Qty': 100, 'price': 40},\n",
              " '1008': {'Product_Name': 'Badam\\t', 'Qty': 100, 'price': 40},\n",
              " '1009': {'Product_Name': 'Kismis\\t', 'Qty': 100, 'price': 40},\n",
              " '1010': {'Product_Name': 'Parle-G', 'Qty': 100, 'price': 40},\n",
              " '1011': {'Product_Name': 'bourbon biscuits', 'Qty': 100, 'price': 40},\n",
              " '1012': {'Product_Name': 'Punjabi Tadka', 'Qty': 100, 'price': 40},\n",
              " '1013': {'Product_Name': 'Aloo bhujia', 'Qty': 100, 'price': 40},\n",
              " '1014': {'Product_Name': 'Paneer\\t', 'Qty': 100, 'price': 40},\n",
              " '1015': {'Product_Name': 'Elaichi ', 'Qty': 100, 'price': 40},\n",
              " '1016': {'Product_Name': 'Jira\\t', 'Qty': 100, 'price': 40},\n",
              " '1017': {'Product_Name': 'Dove\\t', 'Qty': 100, 'price': 40},\n",
              " '1018': {'Product_Name': 'Good Knight', 'Qty': 100, 'price': 40},\n",
              " '1019': {'Product_Name': 'Pista\\t', 'Qty': 100, 'price': 40},\n",
              " '1020': {'Product_Name': 'Micromax TV', 'Qty': 100, 'price': 40},\n",
              " '1021': {'Product_Name': 'KeyBoard', 'Qty': 100, 'price': 40},\n",
              " '1022': {'Product_Name': 'Boro Plus', 'Qty': 100, 'price': 40},\n",
              " '1023': {'Product_Name': 'Garam Masala', 'Qty': 100, 'price': 40},\n",
              " '1024': {'Product_Name': \"lay's chips\", 'Qty': 100, 'price': 40},\n",
              " '1025': {'Product_Name': 'dove shampoo', 'Qty': 100, 'price': 40},\n",
              " '1026': {'Product_Name': 'Pen\\t', 'Qty': 100, 'price': 40},\n",
              " '1027': {'Product_Name': 'Milk\\t', 'Qty': 100, 'price': 40},\n",
              " '1028': {'Product_Name': 'mixed juice', 'Qty': 100, 'price': 40},\n",
              " '1030': {'Product_Name': 'Books\\t', 'Qty': 100, 'price': 40},\n",
              " '1034': {'Product_Name': 'Tube Light', 'Qty': 120, 'price': 140}}"
            ]
          },
          "metadata": {},
          "execution_count": 24
        }
      ]
    },
    {
      "cell_type": "code",
      "metadata": {
        "colab": {
          "base_uri": "https://localhost:8080/"
        },
        "id": "aj37yx0lbxlk",
        "outputId": "8f0e96cd-cfd7-44f4-f0f4-4bf70c093678"
      },
      "source": [
        "##To add items into records.json\n",
        "chose = True\n",
        "while(chose):\n",
        "  pro_ID = str(input(\"Enter Product Id: \"))\n",
        "  name = str(input(\"Enter name: \"))\n",
        "  price = int(input(\"Enter Price: \"))\n",
        "  Quantity = int(input(\"Enter Quantity: \"))\n",
        "  chosenvalue=str(input(\"What to add more value?(Y/N)\"))\n",
        "  if(chosenvalue=='Y'):\n",
        "    chose=True\n",
        "  else:\n",
        "    chose=False\n",
        "\n",
        "  for i in records:\n",
        "      if(i == pro_ID):\n",
        "          if(record[i]['Product_Name'] == name):\n",
        "              Quantity = record[i]['Qty'] + Quantity\n",
        "\n",
        "records[pro_ID] = {\"Product_Name\": name,\"price\": price, \"Qty\": Quantity}"
      ],
      "execution_count": null,
      "outputs": [
        {
          "name": "stdout",
          "output_type": "stream",
          "text": [
            "Enter Product Id: 1035\n",
            "Enter name: Agarbatti\n",
            "Enter Price: 23\n",
            "Enter Quantity: 130\n",
            "What to add more value?(Y/N)N\n"
          ]
        }
      ]
    },
    {
      "cell_type": "code",
      "metadata": {
        "id": "b7k1CMV_Ykpn"
      },
      "source": [
        "j_s = json.dumps(records)"
      ],
      "execution_count": null,
      "outputs": []
    },
    {
      "cell_type": "code",
      "metadata": {
        "colab": {
          "base_uri": "https://localhost:8080/",
          "height": 238
        },
        "id": "6sjLT3DqY0ad",
        "outputId": "2a2de500-2169-4c10-e17c-4925b34c7c4e"
      },
      "source": [
        "#j_s"
      ],
      "execution_count": null,
      "outputs": [
        {
          "output_type": "execute_result",
          "data": {
            "application/vnd.google.colaboratory.intrinsic+json": {
              "type": "string"
            },
            "text/plain": [
              "'{\"1001\": {\"Product_Name\": \"Apple Jam\", \"price\": 40, \"Qty\": 100}, \"1002\": {\"Product_Name\": \"Dairy Milk\", \"price\": 40, \"Qty\": 100}, \"1003\": {\"Product_Name\": \"Kit-Kat\", \"price\": 40, \"Qty\": 100}, \"1004\": {\"Product_Name\": \"Mountain dew\", \"price\": 40, \"Qty\": 100}, \"1005\": {\"Product_Name\": \"coca cola\", \"price\": 40, \"Qty\": 100}, \"1006\": {\"Product_Name\": \"Maida\", \"price\": 40, \"Qty\": 100}, \"1007\": {\"Product_Name\": \"surf excel\", \"price\": 40, \"Qty\": 100}, \"1008\": {\"Product_Name\": \"Badam\", \"price\": 40, \"Qty\": 100}, \"1009\": {\"Product_Name\": \"Kismis\", \"price\": 40, \"Qty\": 100}, \"1010\": {\"Product_Name\": \"Parle-G\", \"price\": 40, \"Qty\": 100}, \"1011\": {\"Product_Name\": \"bourbon biscuits\", \"price\": 40, \"Qty\": 100}, \"1012\": {\"Product_Name\": \"Punjabi Tadka\", \"price\": 40, \"Qty\": 100}, \"1013\": {\"Product_Name\": \"Aloo bhujia\", \"price\": 40, \"Qty\": 100}, \"1014\": {\"Product_Name\": \"Paneer \", \"price\": 40, \"Qty\": 100}, \"1015\": {\"Product_Name\": \"Elaichi\", \"price\": 40, \"Qty\": 100}, \"1016\": {\"Product_Name\": \"Jira\", \"price\": 40, \"Qty\": 100}, \"1017\": {\"Product_Name\": \"Dove\", \"price\": 40, \"Qty\": 100}, \"1018\": {\"Product_Name\": \"Good Knight\", \"price\": 40, \"Qty\": 100}, \"1019\": {\"Product_Name\": \"Pista\", \"price\": 40, \"Qty\": 100}, \"1020\": {\"Product_Name\": \"Micromax TV\", \"price\": 40, \"Qty\": 100}, \"1021\": {\"Product_Name\": \"KeyBoard\", \"price\": 40, \"Qty\": 100}, \"1022\": {\"Product_Name\": \"Boro Plus\", \"price\": 40, \"Qty\": 100}, \"1023\": {\"Product_Name\": \"Garam Masala\", \"price\": 40, \"Qty\": 100}, \"1024\": {\"Product_Name\": \"lay\\'s chips\", \"price\": 40, \"Qty\": 100}, \"1025\": {\"Product_Name\": \"dove shampoo\", \"price\": 40, \"Qty\": 100}, \"1026\": {\"Product_Name\": \"Pen\", \"price\": 40, \"Qty\": 100}, \"1027\": {\"Product_Name\": \"Milk\", \"price\": 40, \"Qty\": 100}, \"1028\": {\"Product_Name\": \"mixed juice\", \"price\": 40, \"Qty\": 100}, \"1030\": {\"Product_Name\": \"Books\", \"price\": 40, \"Qty\": 100}, \"1031\": {\"Product_Name\": \"Tube Light\", \"price\": 140, \"Qty\": 120}}'"
            ]
          },
          "metadata": {},
          "execution_count": 8
        }
      ]
    },
    {
      "cell_type": "code",
      "metadata": {
        "colab": {
          "base_uri": "https://localhost:8080/"
        },
        "id": "HGyvku1Nbbtd",
        "outputId": "1fa16b9a-1e56-4b15-b5bb-812ee8a83928"
      },
      "source": [
        "records"
      ],
      "execution_count": null,
      "outputs": [
        {
          "output_type": "execute_result",
          "data": {
            "text/plain": [
              "{'1001': {'Product_Name': 'Apple Jam', 'Qty': 100, 'price': 40},\n",
              " '1002': {'Product_Name': 'Dairy Milk', 'Qty': 100, 'price': 40},\n",
              " '1003': {'Product_Name': 'Kit-Kat', 'Qty': 100, 'price': 40},\n",
              " '1004': {'Product_Name': 'Mountain dew', 'Qty': 100, 'price': 40},\n",
              " '1005': {'Product_Name': 'coca cola', 'Qty': 100, 'price': 40},\n",
              " '1006': {'Product_Name': 'Maida\\t', 'Qty': 100, 'price': 40},\n",
              " '1007': {'Product_Name': 'surf excel', 'Qty': 100, 'price': 40},\n",
              " '1008': {'Product_Name': 'Badam\\t', 'Qty': 100, 'price': 40},\n",
              " '1009': {'Product_Name': 'Kismis\\t', 'Qty': 100, 'price': 40},\n",
              " '1010': {'Product_Name': 'Parle-G', 'Qty': 100, 'price': 40},\n",
              " '1011': {'Product_Name': 'bourbon biscuits', 'Qty': 100, 'price': 40},\n",
              " '1012': {'Product_Name': 'Punjabi Tadka', 'Qty': 100, 'price': 40},\n",
              " '1013': {'Product_Name': 'Aloo bhujia', 'Qty': 100, 'price': 40},\n",
              " '1014': {'Product_Name': 'Paneer\\t', 'Qty': 100, 'price': 40},\n",
              " '1015': {'Product_Name': 'Elaichi ', 'Qty': 100, 'price': 40},\n",
              " '1016': {'Product_Name': 'Jira\\t', 'Qty': 100, 'price': 40},\n",
              " '1017': {'Product_Name': 'Dove\\t', 'Qty': 100, 'price': 40},\n",
              " '1018': {'Product_Name': 'Good Knight', 'Qty': 100, 'price': 40},\n",
              " '1019': {'Product_Name': 'Pista\\t', 'Qty': 100, 'price': 40},\n",
              " '1020': {'Product_Name': 'Micromax TV', 'Qty': 100, 'price': 40},\n",
              " '1021': {'Product_Name': 'KeyBoard', 'Qty': 100, 'price': 40},\n",
              " '1022': {'Product_Name': 'Boro Plus', 'Qty': 100, 'price': 40},\n",
              " '1023': {'Product_Name': 'Garam Masala', 'Qty': 100, 'price': 40},\n",
              " '1024': {'Product_Name': \"lay's chips\", 'Qty': 100, 'price': 40},\n",
              " '1025': {'Product_Name': 'dove shampoo', 'Qty': 100, 'price': 40},\n",
              " '1026': {'Product_Name': 'Pen\\t', 'Qty': 100, 'price': 40},\n",
              " '1027': {'Product_Name': 'Milk\\t', 'Qty': 100, 'price': 40},\n",
              " '1028': {'Product_Name': 'mixed juice', 'Qty': 100, 'price': 40},\n",
              " '1030': {'Product_Name': 'Books\\t', 'Qty': 100, 'price': 40},\n",
              " '1034': {'Product_Name': 'Tube Light', 'Qty': 120, 'price': 140},\n",
              " '1035': {'Product_Name': 'Agarbatti', 'Qty': 130, 'price': 23}}"
            ]
          },
          "metadata": {},
          "execution_count": 27
        }
      ]
    },
    {
      "cell_type": "code",
      "metadata": {
        "id": "eY1MQ044Y8Bp"
      },
      "source": [
        "fd = open(\"records.json\",\"w\")\n",
        "fd.write(j_s)\n",
        "fd.close()\n"
      ],
      "execution_count": null,
      "outputs": []
    },
    {
      "cell_type": "code",
      "metadata": {
        "id": "EwIStpPraJ2J"
      },
      "source": [
        "fd = open(\"records.json\",\"r\")\n",
        "data = fd.read()\n",
        "fd.close()"
      ],
      "execution_count": null,
      "outputs": []
    },
    {
      "cell_type": "code",
      "metadata": {
        "colab": {
          "base_uri": "https://localhost:8080/"
        },
        "id": "zC32l0PvaLsw",
        "outputId": "738a4057-7eb4-47fa-80e4-ab43cc659229"
      },
      "source": [
        "# dict = json.loads(data)\n",
        "# dict"
      ],
      "execution_count": null,
      "outputs": [
        {
          "output_type": "execute_result",
          "data": {
            "text/plain": [
              "{'1001': {'Product_Name': 'Apple Jam', 'Qty': 100, 'price': 40},\n",
              " '1002': {'Product_Name': 'Dairy Milk', 'Qty': 100, 'price': 40},\n",
              " '1003': {'Product_Name': 'Kit-Kat', 'Qty': 100, 'price': 40},\n",
              " '1004': {'Product_Name': 'Mountain dew', 'Qty': 100, 'price': 40},\n",
              " '1005': {'Product_Name': 'coca cola', 'Qty': 100, 'price': 40},\n",
              " '1006': {'Product_Name': 'Maida\\t', 'Qty': 100, 'price': 40},\n",
              " '1007': {'Product_Name': 'surf excel', 'Qty': 100, 'price': 40},\n",
              " '1008': {'Product_Name': 'Badam\\t', 'Qty': 100, 'price': 40},\n",
              " '1009': {'Product_Name': 'Kismis\\t', 'Qty': 100, 'price': 40},\n",
              " '1010': {'Product_Name': 'Parle-G', 'Qty': 100, 'price': 40},\n",
              " '1011': {'Product_Name': 'bourbon biscuits', 'Qty': 100, 'price': 40},\n",
              " '1012': {'Product_Name': 'Punjabi Tadka', 'Qty': 100, 'price': 40},\n",
              " '1013': {'Product_Name': 'Aloo bhujia', 'Qty': 100, 'price': 40},\n",
              " '1014': {'Product_Name': 'Paneer\\t', 'Qty': 100, 'price': 40},\n",
              " '1015': {'Product_Name': 'Elaichi ', 'Qty': 100, 'price': 40},\n",
              " '1016': {'Product_Name': 'Jira\\t', 'Qty': 100, 'price': 40},\n",
              " '1017': {'Product_Name': 'Dove\\t', 'Qty': 100, 'price': 40},\n",
              " '1018': {'Product_Name': 'Good Knight', 'Qty': 100, 'price': 40},\n",
              " '1019': {'Product_Name': 'Pista\\t', 'Qty': 100, 'price': 40},\n",
              " '1020': {'Product_Name': 'Micromax TV', 'Qty': 100, 'price': 40},\n",
              " '1021': {'Product_Name': 'KeyBoard', 'Qty': 100, 'price': 40},\n",
              " '1022': {'Product_Name': 'Boro Plus', 'Qty': 100, 'price': 40},\n",
              " '1023': {'Product_Name': 'Garam Masala', 'Qty': 100, 'price': 40},\n",
              " '1024': {'Product_Name': \"lay's chips\", 'Qty': 100, 'price': 40},\n",
              " '1025': {'Product_Name': 'dove shampoo', 'Qty': 100, 'price': 40},\n",
              " '1026': {'Product_Name': 'Pen\\t', 'Qty': 100, 'price': 40},\n",
              " '1027': {'Product_Name': 'Milk\\t', 'Qty': 100, 'price': 40},\n",
              " '1028': {'Product_Name': 'mixed juice', 'Qty': 100, 'price': 40},\n",
              " '1030': {'Product_Name': 'Books\\t', 'Qty': 100, 'price': 40},\n",
              " '1034': {'Product_Name': 'Tube Light', 'Qty': 120, 'price': 140},\n",
              " '1035': {'Product_Name': 'Agarbatti', 'Qty': 130, 'price': 23}}"
            ]
          },
          "metadata": {},
          "execution_count": 31
        }
      ]
    },
    {
      "cell_type": "code",
      "metadata": {
        "colab": {
          "base_uri": "https://localhost:8080/"
        },
        "id": "f6m9JrOM1XBz",
        "outputId": "87edbe10-8da3-4132-f19c-712d7a606357"
      },
      "source": [
        "print(\"*****************************Welcome User*****************************\")\n",
        "print(\"*****************************Happy Shopping***************************\")\n",
        "print(\"\\tproduct ID\\t\", \"product Name\\t\" ,\"Price\\t\", \"Quantity\")\n",
        "for i in records:\n",
        "  print(\"\\t\",i, \"\\t\\t\", records[i][\"Product_Name\"], \"\\t\", records[i][\"price\"], \"\\t\\t\", records[i][\"Qty\"], \"\\t\\t\",)"
      ],
      "execution_count": null,
      "outputs": [
        {
          "output_type": "stream",
          "name": "stdout",
          "text": [
            "*****************************Welcome User*****************************\n",
            "*****************************Happy Shopping***************************\n",
            "\tproduct ID\t product Name\t Price\t Quantity\n",
            "\t 1001 \t\t Apple Jam \t 40 \t\t 100 \t\t\n",
            "\t 1002 \t\t Dairy Milk \t 40 \t\t 100 \t\t\n",
            "\t 1003 \t\t Kit-Kat \t 40 \t\t 100 \t\t\n",
            "\t 1004 \t\t Mountain dew \t 40 \t\t 100 \t\t\n",
            "\t 1005 \t\t coca cola \t 40 \t\t 100 \t\t\n",
            "\t 1006 \t\t Maida\t \t 40 \t\t 100 \t\t\n",
            "\t 1007 \t\t surf excel \t 40 \t\t 100 \t\t\n",
            "\t 1008 \t\t Badam\t \t 40 \t\t 100 \t\t\n",
            "\t 1009 \t\t Kismis\t \t 40 \t\t 100 \t\t\n",
            "\t 1010 \t\t Parle-G \t 40 \t\t 100 \t\t\n",
            "\t 1011 \t\t bourbon biscuits \t 40 \t\t 100 \t\t\n",
            "\t 1012 \t\t Punjabi Tadka \t 40 \t\t 100 \t\t\n",
            "\t 1013 \t\t Aloo bhujia \t 40 \t\t 100 \t\t\n",
            "\t 1014 \t\t Paneer\t \t 40 \t\t 100 \t\t\n",
            "\t 1015 \t\t Elaichi  \t 40 \t\t 100 \t\t\n",
            "\t 1016 \t\t Jira\t \t 40 \t\t 100 \t\t\n",
            "\t 1017 \t\t Dove\t \t 40 \t\t 100 \t\t\n",
            "\t 1018 \t\t Good Knight \t 40 \t\t 100 \t\t\n",
            "\t 1019 \t\t Pista\t \t 40 \t\t 100 \t\t\n",
            "\t 1020 \t\t Micromax TV \t 40 \t\t 100 \t\t\n",
            "\t 1021 \t\t KeyBoard \t 40 \t\t 100 \t\t\n",
            "\t 1022 \t\t Boro Plus \t 40 \t\t 100 \t\t\n",
            "\t 1023 \t\t Garam Masala \t 40 \t\t 100 \t\t\n",
            "\t 1024 \t\t lay's chips \t 40 \t\t 100 \t\t\n",
            "\t 1025 \t\t dove shampoo \t 40 \t\t 100 \t\t\n",
            "\t 1026 \t\t Pen\t \t 40 \t\t 100 \t\t\n",
            "\t 1027 \t\t Milk\t \t 40 \t\t 100 \t\t\n",
            "\t 1028 \t\t mixed juice \t 40 \t\t 100 \t\t\n",
            "\t 1030 \t\t Books\t \t 40 \t\t 100 \t\t\n",
            "\t 1034 \t\t Tube Light \t 140 \t\t 120 \t\t\n",
            "\t 1035 \t\t Agarbatti \t 23 \t\t 130 \t\t\n"
          ]
        }
      ]
    },
    {
      "cell_type": "code",
      "metadata": {
        "colab": {
          "base_uri": "https://localhost:8080/"
        },
        "id": "hAOKcl7paasw",
        "outputId": "47ab050a-296f-49c5-da22-b1c6932154c6"
      },
      "source": [
        "Buy_again = True\n",
        "amount = []\n",
        "quantitys = []\n",
        "while(Buy_again):\n",
        "  user_id=input(\"Enter the product id :\")\n",
        "  print(user_id)\n",
        "  quantity=int(input(\"Enter The Quantity :\"))\n",
        "  \n",
        "  product_id=records.keys()\n",
        "\n",
        "  if (user_id not in product_id):\n",
        "      print(\"Entered wrong Product Id \")\n",
        "    \n",
        "    \n",
        "    \n",
        "  flag=0\n",
        "  if(records[user_id][\"Qty\"]<quantity):\n",
        "      print(\"The available quantity is :\" ,records[user_id][\"Qty\"])\n",
        "      ans=int(input(\"Do you want to take these quantity(1-yes/0-No)\"))\n",
        "      if(ans):\n",
        "          print(\"The bill is processed!!\")\n",
        "          quantity=records[user_id][\"Qty\"]\n",
        "        \n",
        "      else:\n",
        "          flag=1\n",
        "          print(\"choose any other product\")\n",
        "  \n",
        "  records[user_id][\"Qty\"]-=quantity\n",
        "\n",
        "  amount.append(user_id)\n",
        "  quantitys.append(quantity)\n",
        "  chose = (input(\"Want To Buy More?(Y/N)\"))\n",
        "  if(chose=='N'):\n",
        "    Buy_again=False\n",
        "\n",
        "\n",
        "  #records"
      ],
      "execution_count": null,
      "outputs": [
        {
          "name": "stdout",
          "output_type": "stream",
          "text": [
            "Enter the product id :1030\n",
            "1030\n",
            "Enter The Quantity :72\n",
            "Want To Buy More?(Y/N)N\n"
          ]
        }
      ]
    },
    {
      "cell_type": "code",
      "metadata": {
        "id": "7X-4n52Vqs7s"
      },
      "source": [
        "\n",
        "fd = open(\"records.json\",\"w\")\n",
        "fd.write(json.dumps(records))\n",
        "fd.close()"
      ],
      "execution_count": null,
      "outputs": []
    },
    {
      "cell_type": "code",
      "metadata": {
        "colab": {
          "base_uri": "https://localhost:8080/"
        },
        "id": "SlwtAbDuAcVS",
        "outputId": "6f22b387-3990-4e10-b78d-9cd97da48004"
      },
      "source": [
        "import time\n",
        "sum=0\n",
        "i=0\n",
        "if(flag==0):\n",
        "  print(\"******************************Bill******************************\",)\n",
        "  print(\"****************Time :\",time.ctime(),\"****************\")\n",
        "  for i in range(len(amount)):\n",
        "    print(\"\\t\\tProduct :\",records[amount[i]][\"Product_Name\"])\n",
        "    print(\"\\t\\tQuanity :\",quantitys[i])\n",
        "    print(\"\\t\\tPrice :\",records[amount[i]][\"price\"])\n",
        "    sum+=records[amount[i]][\"price\"]*quantitys[i]\n",
        "  print(\"\\t\\tBilling Amount :\",sum)\n",
        "  print(\"***********************************************************************************\")"
      ],
      "execution_count": null,
      "outputs": [
        {
          "output_type": "stream",
          "name": "stdout",
          "text": [
            "******************************Bill******************************\n",
            "****************Time : Mon Sep  6 11:55:59 2021 ****************\n",
            "\t\tProduct : Books\t\n",
            "\t\tQuanity : 72\n",
            "\t\tPrice : 40\n",
            "\t\tBilling Amount : 2880\n",
            "***********************************************************************************\n"
          ]
        }
      ]
    },
    {
      "cell_type": "code",
      "metadata": {
        "id": "WmWbZRnHCC0K"
      },
      "source": [
        "fd=open(\"sales.json\",\"r\")\n",
        "txt=fd.read()\n",
        "fd.close()\n",
        "sales=json.loads(txt)"
      ],
      "execution_count": null,
      "outputs": []
    },
    {
      "cell_type": "code",
      "metadata": {
        "id": "8b_CVWlxCEt-"
      },
      "source": [
        "trans_id=len(sales)+1\n",
        "products_name=[]\n",
        "for i in range(len(amount)):\n",
        "  products_name.append(records[amount[i]][\"Product_Name\"])\n",
        "trans_details={'Product_Name':products_name}\n",
        "trans_details['time']=time.ctime()\n",
        "trans_details['Qty']=quantitys\n",
        "trans_details['total_amount']=sum\n",
        "sales[trans_id]=trans_details"
      ],
      "execution_count": null,
      "outputs": []
    },
    {
      "cell_type": "code",
      "metadata": {
        "id": "KWrxvYp6CEvO"
      },
      "source": [
        "fd=open(\"sales.json\",\"w\")\n",
        "jformat=json.dumps(sales)\n",
        "fd.write(jformat)\n",
        "fd.close()"
      ],
      "execution_count": null,
      "outputs": []
    }
  ]
}